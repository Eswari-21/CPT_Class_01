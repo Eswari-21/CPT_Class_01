{
  "cells": [
    {
      "cell_type": "code",
      "execution_count": null,
      "metadata": {
        "colab": {
          "base_uri": "https://localhost:8080/"
        },
        "id": "Gq0fL5osDCKS",
        "outputId": "d49764b4-3c0c-405a-de3b-f448ae9e62b5"
      },
      "outputs": [
        {
          "name": "stdout",
          "output_type": "stream",
          "text": [
            "[0, 1, 4, 9, 16]\n"
          ]
        }
      ],
      "source": [
        "sq = [x**2 for x in range(5)]\n",
        "print(sq)"
      ]
    },
    {
      "cell_type": "code",
      "execution_count": null,
      "metadata": {
        "colab": {
          "base_uri": "https://localhost:8080/"
        },
        "id": "l3IRItXNDRha",
        "outputId": "b1c93955-24c5-4280-a353-1723688ceacb"
      },
      "outputs": [
        {
          "name": "stdout",
          "output_type": "stream",
          "text": [
            "[0, 1, 2, 3, 4]\n"
          ]
        }
      ],
      "source": [
        "sq = [x for x in range(5)]\n",
        "print(sq)"
      ]
    },
    {
      "cell_type": "code",
      "execution_count": null,
      "metadata": {
        "colab": {
          "base_uri": "https://localhost:8080/"
        },
        "id": "D1JRLpllDWgk",
        "outputId": "bd11e872-d06a-492c-8f27-6e9e84456ec8"
      },
      "outputs": [
        {
          "name": "stdout",
          "output_type": "stream",
          "text": [
            "['APPLE', 'BANANA', 'KIWI']\n"
          ]
        }
      ],
      "source": [
        "words = ['apple','banana','kiwi']\n",
        "upp = [word.upper() for word in words]\n",
        "print(upp)"
      ]
    },
    {
      "cell_type": "code",
      "execution_count": null,
      "metadata": {
        "colab": {
          "base_uri": "https://localhost:8080/"
        },
        "id": "6TlQ2z_9DbeI",
        "outputId": "c552692e-2452-4041-ef10-56d55e66f5b0"
      },
      "outputs": [
        {
          "name": "stdout",
          "output_type": "stream",
          "text": [
            "[1, 2, 3, 4, 5, 6, 7, 8, 9]\n"
          ]
        }
      ],
      "source": [
        "# nested list comprehension on 2d matrix to flatten\n",
        "matrix = [[1,2,3],[4,5,6],[7,8,9]]\n",
        "flat = [num for row in matrix for num in row]\n",
        "print(flat)"
      ]
    },
    {
      "cell_type": "code",
      "execution_count": null,
      "metadata": {
        "colab": {
          "base_uri": "https://localhost:8080/"
        },
        "id": "fZesW_TxDi29",
        "outputId": "6819248b-58d8-4384-f311-fbc7e5a704d9"
      },
      "outputs": [
        {
          "name": "stdout",
          "output_type": "stream",
          "text": [
            "[1, 2, 3, 4, 5, 6]\n"
          ]
        }
      ],
      "source": [
        "matrix = [[1,2],[3,4],[5,6]]\n",
        "flat = [ num for row in matrix for num in row]\n",
        "print(flat)"
      ]
    },
    {
      "cell_type": "code",
      "execution_count": null,
      "metadata": {
        "colab": {
          "base_uri": "https://localhost:8080/"
        },
        "id": "7IKZgAIcDkQl",
        "outputId": "21ecbcc9-1d74-47cb-f9e8-1aa0dab95098"
      },
      "outputs": [
        {
          "name": "stdout",
          "output_type": "stream",
          "text": [
            "[0, 0, 0, 1, 2]\n"
          ]
        }
      ],
      "source": [
        "# using logical condition , replace all the negative numbers with zeros\n",
        "nums = [-2 , -1,  0, 1, 2]\n",
        "nonneg = [x if x>=0 else 0 for x in nums]\n",
        "print(nonneg)\n",
        "# we use the syntaxs in list or not\n",
        "# list have a delimiters like starting and ending ([]) so syntax is not applicable in delimiters"
      ]
    },
    {
      "cell_type": "code",
      "execution_count": null,
      "metadata": {
        "colab": {
          "base_uri": "https://localhost:8080/"
        },
        "id": "XtOJNbKDDrt3",
        "outputId": "514fb3f2-f3a3-4ab1-9fd1-e4c93319449a"
      },
      "outputs": [
        {
          "name": "stdout",
          "output_type": "stream",
          "text": [
            "['a', 'k', 'b']\n"
          ]
        }
      ],
      "source": [
        "words = ['apple','kiwi','banana']\n",
        "fc = [word[0] for word in words]\n",
        "print(fc)"
      ]
    },
    {
      "cell_type": "code",
      "execution_count": null,
      "metadata": {
        "colab": {
          "base_uri": "https://localhost:8080/"
        },
        "id": "lpK7uRIWDuRF",
        "outputId": "3375da2c-ac62-4675-eda2-42ad49b97367"
      },
      "outputs": [
        {
          "name": "stdout",
          "output_type": "stream",
          "text": [
            "[5, 4, 6]\n"
          ]
        }
      ],
      "source": [
        "words = ['apple','kiwi','banana']\n",
        "fc = [len(word) for word in words]\n",
        "print(fc)"
      ]
    },
    {
      "cell_type": "code",
      "execution_count": null,
      "metadata": {
        "colab": {
          "base_uri": "https://localhost:8080/"
        },
        "id": "UFj8uP2VD0EY",
        "outputId": "14d3e5d5-63b6-4f9c-bdbf-4fc4b843c41c"
      },
      "outputs": [
        {
          "name": "stdout",
          "output_type": "stream",
          "text": [
            "[1, 2, 3, 4, 5]\n"
          ]
        }
      ],
      "source": [
        "# filtering none values\n",
        "items = [1,None,2,3,None,4,5]\n",
        "valid = [x for x in items if x is not None]\n",
        "print(valid)"
      ]
    },
    {
      "cell_type": "code",
      "execution_count": null,
      "metadata": {
        "colab": {
          "base_uri": "https://localhost:8080/"
        },
        "id": "RQwbJWSBD5bZ",
        "outputId": "9d7d7b15-941d-4d42-bbba-08ebfc882b9e"
      },
      "outputs": [
        {
          "name": "stdout",
          "output_type": "stream",
          "text": [
            "[None, None]\n"
          ]
        }
      ],
      "source": [
        "items = [1,None,2,3,None,4,5]\n",
        "valid = [x for x in items if x is  None]\n",
        "print(valid)"
      ]
    },
    {
      "cell_type": "code",
      "execution_count": null,
      "metadata": {
        "colab": {
          "base_uri": "https://localhost:8080/"
        },
        "id": "UEc9HIZJD8b8",
        "outputId": "b0218858-a679-4039-b83c-a4f66c4fb69e"
      },
      "outputs": [
        {
          "name": "stdout",
          "output_type": "stream",
          "text": [
            "['e', 'o', 'u', 'e', 'o', 'o', 'o', 'i']\n"
          ]
        }
      ],
      "source": [
        "# given a string , create a list of all vowels in the string using list comprehensions\n",
        "text = \"hello students Good MorninG\"\n",
        "vowels = [char for char in text if char.lower() in 'aeiouAEIOU']\n",
        "print(vowels)"
      ]
    },
    {
      "cell_type": "code",
      "execution_count": null,
      "metadata": {
        "colab": {
          "base_uri": "https://localhost:8080/"
        },
        "id": "urjmN5OJD-oB",
        "outputId": "ff75f49e-c3a9-4372-9083-04a13af807a4"
      },
      "outputs": [
        {
          "name": "stdout",
          "output_type": "stream",
          "text": [
            "# # # # # # # # # \n"
          ]
        }
      ],
      "source": [
        "n = 3\n",
        "for i in range(n):\n",
        "    for j in range(n):\n",
        "        print('#',end = ' ')\n",
        "print()"
      ]
    },
    {
      "cell_type": "code",
      "execution_count": null,
      "metadata": {
        "colab": {
          "base_uri": "https://localhost:8080/"
        },
        "id": "RFy0pyWFEFh-",
        "outputId": "45af2df7-d0e4-4639-a20f-4ca748d139f3"
      },
      "outputs": [
        {
          "name": "stdout",
          "output_type": "stream",
          "text": [
            "enter any value5\n",
            "* * * * * \n",
            "* * * * * \n",
            "* * * * * \n",
            "* * * * * \n",
            "* * * * * \n"
          ]
        }
      ],
      "source": [
        "x = int(input(\"enter any value\"))\n",
        "for i in range(x):\n",
        "    for j in range(x):\n",
        "        print('*',end = ' ')\n",
        "    print()"
      ]
    },
    {
      "cell_type": "code",
      "execution_count": null,
      "metadata": {
        "colab": {
          "base_uri": "https://localhost:8080/"
        },
        "id": "D7HCjBbDEJhK",
        "outputId": "78240178-ed95-4d90-9ec0-8bed30700f67"
      },
      "outputs": [
        {
          "name": "stdout",
          "output_type": "stream",
          "text": [
            "enter any value5\n",
            "* * * * * \n",
            "*       * \n",
            "*       * \n",
            "*       * \n",
            "* * * * * \n"
          ]
        }
      ],
      "source": [
        "x = int(input(\"enter any value\"))\n",
        "for i in range(x):\n",
        "    for j in range(x):\n",
        "        if i==0 or j==0 or i==x-1 or j==x-1:\n",
        "            print('*',end = ' ')\n",
        "        else:\n",
        "            print(' ',end = ' ')\n",
        "    print()"
      ]
    },
    {
      "cell_type": "code",
      "execution_count": null,
      "metadata": {
        "colab": {
          "base_uri": "https://localhost:8080/"
        },
        "id": "xavRoNn-EQgf",
        "outputId": "c25922e1-57e2-4cb6-9123-532a6ebcca5a"
      },
      "outputs": [
        {
          "name": "stdout",
          "output_type": "stream",
          "text": [
            "enter any value5\n",
            "* * * * * \n",
            "* *     * \n",
            "*   *   * \n",
            "*     * * \n",
            "* * * * * \n"
          ]
        }
      ],
      "source": [
        "x = int(input(\"enter any value\"))\n",
        "for i in range(x):\n",
        "    for j in range(x):\n",
        "        if i==0 or j==0 or i==x-1 or j==x-1 or i==j:\n",
        "            print('*',end = ' ')\n",
        "        else:\n",
        "            print(' ',end = ' ')\n",
        "    print()"
      ]
    },
    {
      "cell_type": "code",
      "execution_count": null,
      "metadata": {
        "colab": {
          "base_uri": "https://localhost:8080/"
        },
        "id": "m4YuUm1zEYDM",
        "outputId": "5b0f61a4-bad0-4641-9c38-075946f0cb48"
      },
      "outputs": [
        {
          "name": "stdout",
          "output_type": "stream",
          "text": [
            "enter any value5\n",
            "*       * \n",
            "* *   * * \n",
            "*   *   * \n",
            "* *   * * \n",
            "*       * \n"
          ]
        }
      ],
      "source": [
        "x = int(input(\"enter any value\"))\n",
        "for i in range(x):\n",
        "    for j in range(x):\n",
        "        if j==0 or j==x-1 or i==j  or i+j==x-1 :\n",
        "            print('*',end = ' ')\n",
        "        else:\n",
        "            print(' ',end = ' ')\n",
        "    print()"
      ]
    },
    {
      "cell_type": "code",
      "execution_count": null,
      "metadata": {
        "colab": {
          "base_uri": "https://localhost:8080/"
        },
        "id": "fs-mi5b_EdIj",
        "outputId": "16f48879-73ec-47a7-865b-8a8d5615308a"
      },
      "outputs": [
        {
          "name": "stdout",
          "output_type": "stream",
          "text": [
            "enter any value5\n",
            "* * * * * \n",
            "  *   *   \n",
            "    *     \n",
            "  *   *   \n",
            "* * * * * \n"
          ]
        }
      ],
      "source": [
        "x = int(input(\"enter any value\"))\n",
        "for i in range(x):\n",
        "    for j in range(x):\n",
        "        if i==0 or i==x-1 or i==j  or i+j==x-1 :\n",
        "            print('*',end = ' ')\n",
        "        else:\n",
        "            print(' ',end = ' ')\n",
        "    print()"
      ]
    },
    {
      "cell_type": "code",
      "execution_count": null,
      "metadata": {
        "colab": {
          "base_uri": "https://localhost:8080/"
        },
        "id": "kEH5dc2WEc5C",
        "outputId": "2d75843d-19a3-42ed-e6cb-c6b00d244d27"
      },
      "outputs": [
        {
          "name": "stdout",
          "output_type": "stream",
          "text": [
            "enter any value5\n",
            "*         \n",
            "* *       \n",
            "*   *     \n",
            "*     *   \n",
            "* * * * * \n"
          ]
        }
      ],
      "source": [
        "x = int(input(\"enter any value\"))\n",
        "for i in range(x):\n",
        "    for j in range(x):\n",
        "        if i==j  or j==0 or i==x-1 :\n",
        "            print('*',end = ' ')\n",
        "        else:\n",
        "            print(' ',end = ' ')\n",
        "    print()"
      ]
    },
    {
      "cell_type": "code",
      "execution_count": null,
      "metadata": {
        "colab": {
          "base_uri": "https://localhost:8080/"
        },
        "id": "AqDAB29bEk9V",
        "outputId": "cc8c2247-737b-4070-cc6e-0ff42466a4a5"
      },
      "outputs": [
        {
          "name": "stdout",
          "output_type": "stream",
          "text": [
            "enter any value5\n",
            "*       * \n",
            "  *   *   \n",
            "    *     \n",
            "  *   *   \n",
            "*       * \n"
          ]
        }
      ],
      "source": [
        "x = int(input(\"enter any value\"))\n",
        "for i in range(x):\n",
        "    for j in range(x):\n",
        "        if i==j or  i+j==x-1 :\n",
        "            print('*',end = ' ')\n",
        "        else:\n",
        "            print(' ',end = ' ')\n",
        "    print()"
      ]
    },
    {
      "cell_type": "code",
      "execution_count": null,
      "metadata": {
        "colab": {
          "base_uri": "https://localhost:8080/"
        },
        "id": "REtmH7PcEqHR",
        "outputId": "8e1588de-06ad-4725-9af9-48abfd6ee08c"
      },
      "outputs": [
        {
          "name": "stdout",
          "output_type": "stream",
          "text": [
            "enter any value5\n",
            "* * * * * \n",
            "*     *   \n",
            "*   *     \n",
            "* *       \n",
            "*         \n"
          ]
        }
      ],
      "source": [
        "x = int(input(\"enter any value\"))\n",
        "for i in range(x):\n",
        "    for j in range(x):\n",
        "        if i==0 or j==0  or i+j==x-1 :\n",
        "            print('*',end = ' ')\n",
        "        else:\n",
        "            print(' ',end = ' ')\n",
        "    print()"
      ]
    },
    {
      "cell_type": "code",
      "execution_count": null,
      "metadata": {
        "colab": {
          "base_uri": "https://localhost:8080/"
        },
        "id": "iDhjR1HiEvrE",
        "outputId": "fffd6cfc-275e-45e5-ad7e-c1969e1ad17b"
      },
      "outputs": [
        {
          "name": "stdout",
          "output_type": "stream",
          "text": [
            "enter any value7\n",
            "* * * * * * * \n",
            "* *       * * \n",
            "*   *   *   * \n",
            "*     *     * \n",
            "*   *   *   * \n",
            "* *       * * \n",
            "* * * * * * * \n"
          ]
        }
      ],
      "source": [
        "x = int(input(\"enter any value\"))\n",
        "for i in range(x):\n",
        "    for j in range(x):\n",
        "        if i==0 or j==0 or i==x-1 or j==x-1 or i==j  or i+j==x-1 :\n",
        "            print('*',end = ' ')\n",
        "        else:\n",
        "            print(' ',end = ' ')\n",
        "    print()"
      ]
    },
    {
      "cell_type": "code",
      "execution_count": null,
      "metadata": {
        "colab": {
          "base_uri": "https://localhost:8080/"
        },
        "id": "OK4CaNduE2Cs",
        "outputId": "d2ad6ce7-b5bf-4435-b524-2c3744ab7230"
      },
      "outputs": [
        {
          "name": "stdout",
          "output_type": "stream",
          "text": [
            "1  \n",
            "2  3  \n",
            "4  5  6  \n",
            "7  8  9  10  \n",
            "11  12  13  14  15  \n"
          ]
        }
      ],
      "source": [
        "rows = 5\n",
        "num = 1\n",
        "for i in range(1, rows+1):\n",
        "    for j in range(1, i+1):\n",
        "        print(num, end ='  ')\n",
        "        num+=1\n",
        "    print()"
      ]
    },
    {
      "cell_type": "code",
      "execution_count": null,
      "metadata": {
        "colab": {
          "base_uri": "https://localhost:8080/"
        },
        "id": "H-Dim3teE69f",
        "outputId": "7db59afd-467c-4d26-dc1a-f854fd4b7730"
      },
      "outputs": [
        {
          "name": "stdout",
          "output_type": "stream",
          "text": [
            "1  \n",
            "2  3  \n",
            "3  4  5  \n",
            "4  5  6  7  \n",
            "5  6  7  8  9  \n"
          ]
        }
      ],
      "source": [
        "rows = 5\n",
        "num = 1\n",
        "for i in range(1, rows+1):\n",
        "    for j in range(1, i+1):\n",
        "        print(i, end ='  ')\n",
        "        i += 1\n",
        "    print()"
      ]
    },
    {
      "cell_type": "markdown",
      "metadata": {
        "id": "4yY90Bm9E_cl"
      },
      "source": [
        "\n",
        "**pascals**"
      ]
    },
    {
      "cell_type": "code",
      "execution_count": null,
      "metadata": {
        "colab": {
          "base_uri": "https://localhost:8080/"
        },
        "id": "FG87VtmGFR34",
        "outputId": "034e1375-8de1-4be3-add7-e7ad359ec33b"
      },
      "outputs": [
        {
          "name": "stdout",
          "output_type": "stream",
          "text": [
            "        # \n",
            "      # # # \n",
            "    # # # # # \n",
            "  # # # # # # # \n",
            "# # # # # # # # # \n"
          ]
        }
      ],
      "source": [
        "row = 5\n",
        "for i in range(row):\n",
        "    for j in range(row-i-1):\n",
        "        print(\" \",end = ' ')\n",
        "    for k in range (2*i +1):\n",
        "        print(\"#\",end =' ')\n",
        "    print()"
      ]
    },
    {
      "cell_type": "code",
      "execution_count": null,
      "metadata": {
        "colab": {
          "base_uri": "https://localhost:8080/"
        },
        "id": "GJe8RAkdFMOZ",
        "outputId": "3f1f6547-3efc-424c-8da8-9ebd78f6e7e7"
      },
      "outputs": [
        {
          "name": "stdout",
          "output_type": "stream",
          "text": [
            "        3 \n",
            "      2 2 2 \n",
            "    1 1 1 1 1 \n",
            "  0 0 0 0 0 0 0 \n",
            "0 0 0 0 0 0 0 0 0 \n"
          ]
        }
      ],
      "source": [
        "row = 5\n",
        "for i in range(row):\n",
        "    for j in range(row-i-1):\n",
        "        print(\" \",end = ' ')\n",
        "    for k in range (2*i +1):\n",
        "        print(j,end =' ')\n",
        "    print()"
      ]
    },
    {
      "cell_type": "code",
      "execution_count": null,
      "metadata": {
        "colab": {
          "base_uri": "https://localhost:8080/"
        },
        "id": "0mwIxyUdFcHJ",
        "outputId": "232d6fc2-74a5-4dd4-da0d-a940a6682575"
      },
      "outputs": [
        {
          "name": "stdout",
          "output_type": "stream",
          "text": [
            "        0 \n",
            "      1 1 1 \n",
            "    2 2 2 2 2 \n",
            "  3 3 3 3 3 3 3 \n",
            "4 4 4 4 4 4 4 4 4 \n"
          ]
        }
      ],
      "source": [
        "row = 5\n",
        "for i in range(row):\n",
        "    for j in range(row-i-1):\n",
        "        print(\" \",end = ' ')\n",
        "    for k in range (2*i +1):\n",
        "        print(i,end =' ')\n",
        "    print()"
      ]
    },
    {
      "cell_type": "code",
      "execution_count": null,
      "metadata": {
        "colab": {
          "base_uri": "https://localhost:8080/"
        },
        "id": "XaLSuGydFe7G",
        "outputId": "a61f9b81-f84b-48ba-ae50-610d697ad829"
      },
      "outputs": [
        {
          "name": "stdout",
          "output_type": "stream",
          "text": [
            "        0 \n",
            "      0 1 2 \n",
            "    0 1 2 3 4 \n",
            "  0 1 2 3 4 5 6 \n",
            "0 1 2 3 4 5 6 7 8 \n"
          ]
        }
      ],
      "source": [
        "row = 5\n",
        "for i in range(row):\n",
        "    for j in range(row-i-1):\n",
        "        print(\" \",end = ' ')\n",
        "    for k in range (2*i +1):\n",
        "        print(k,end =' ')\n",
        "    print()\n"
      ]
    },
    {
      "cell_type": "code",
      "execution_count": null,
      "metadata": {
        "colab": {
          "base_uri": "https://localhost:8080/"
        },
        "id": "VNzVajymFlWI",
        "outputId": "023b1698-7031-4192-932a-823d9f639d26"
      },
      "outputs": [
        {
          "name": "stdout",
          "output_type": "stream",
          "text": [
            "        1   \n",
            "      1   1   \n",
            "    1   2   1   \n",
            "  1   3   3   1   \n",
            "1   4   6   4   1   \n"
          ]
        }
      ],
      "source": [
        "row = 5\n",
        "for i in range(row):\n",
        "    num = 1\n",
        "    for j in range(row-i-1):\n",
        "        print(\" \",end = ' ')\n",
        "    for k in range (i +1):\n",
        "        print(num, end ='   ')\n",
        "        num = num *(i-k)//(k+1)\n",
        "    print()"
      ]
    },
    {
      "cell_type": "markdown",
      "metadata": {
        "id": "OKdtH8VpFsqw"
      },
      "source": [
        "### program to print alphabets in a lexciographical order (pyramid pattern)\n",
        "### A->Z\n"
      ]
    },
    {
      "cell_type": "code",
      "execution_count": null,
      "metadata": {
        "colab": {
          "base_uri": "https://localhost:8080/"
        },
        "id": "5Hc9c1IVFuNr",
        "outputId": "5cbef751-3cd7-41a1-9d18-d0235c36c6ec"
      },
      "outputs": [
        {
          "name": "stdout",
          "output_type": "stream",
          "text": [
            "     A\n",
            "    B C\n",
            "   D E F\n",
            "  G H I J\n",
            " K L M N O\n",
            "P Q R S T U\n",
            "     V W X Y Z\n"
          ]
        }
      ],
      "source": [
        "import string\n",
        "\n",
        "a = list(string.ascii_uppercase)\n",
        "i = 0\n",
        "row = 1\n",
        "while (row * (row + 1)) // 2 <= len(a):\n",
        "    row += 1\n",
        "row -= 1\n",
        "\n",
        "for r in range(1, row + 1):\n",
        "    print(' ' * (row - r) + ' '.join(a[i:i+r]))\n",
        "    i += r\n",
        "\n",
        "if i < len(a):\n",
        "    print(' ' * (row - 1) + ' '.join(a[i:]))\n"
      ]
    },
    {
      "cell_type": "markdown",
      "metadata": {
        "id": "XkmbcfVgGWGW"
      },
      "source": [
        "** Spiral pattern **"
      ]
    },
    {
      "cell_type": "code",
      "execution_count": null,
      "metadata": {
        "colab": {
          "base_uri": "https://localhost:8080/"
        },
        "id": "TEyfTcSJGVik",
        "outputId": "71eeb799-5c11-4e7b-c9cc-d4b70f9354e1"
      },
      "outputs": [
        {
          "name": "stdout",
          "output_type": "stream",
          "text": [
            " 1  2  3  4 \n",
            "12 13 14  5 \n",
            "11 16 15  6 \n",
            "10  9  8  7 \n"
          ]
        }
      ],
      "source": [
        "n=4\n",
        "matrix= [[0] *n for _ in range(n)]\n",
        "num=1\n",
        "top= 0\n",
        "bottom= n-1\n",
        "left= 0\n",
        "right= n-1\n",
        "while top<=bottom and left <=right:\n",
        "    for i in range(left, right+1):\n",
        "        matrix[top][i]= num\n",
        "        num+=1\n",
        "    top +=1\n",
        "    for i in range(top, bottom+1):\n",
        "        matrix[i][right]= num\n",
        "        num+=1\n",
        "    right -=1\n",
        "    for i in range( right, left-1, -1):\n",
        "        matrix[bottom][i]= num\n",
        "        num+=1\n",
        "    bottom -=1\n",
        "    for i in range(bottom, top-1, -1):\n",
        "        matrix[i][left]= num\n",
        "        num+=1\n",
        "    left +=1\n",
        "for row in matrix:\n",
        "    for val in row:\n",
        "        print(f\"{val:2}\", end=' ')\n",
        "    print()\n"
      ]
    },
    {
      "cell_type": "code",
      "execution_count": null,
      "metadata": {
        "id": "NJslhClXaQ7h"
      },
      "outputs": [],
      "source": []
    },
    {
      "cell_type": "code",
      "execution_count": null,
      "metadata": {
        "id": "p70cIPHha40h"
      },
      "outputs": [],
      "source": []
    }
  ],
  "metadata": {
    "colab": {
      "provenance": []
    },
    "kernelspec": {
      "display_name": "Python 3",
      "name": "python3"
    },
    "language_info": {
      "name": "python"
    }
  },
  "nbformat": 4,
  "nbformat_minor": 0
}
